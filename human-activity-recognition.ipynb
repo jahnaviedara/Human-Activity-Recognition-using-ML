{
 "cells": [
  {
   "cell_type": "code",
   "execution_count": 1,
   "id": "c80db947",
   "metadata": {
    "_cell_guid": "b1076dfc-b9ad-4769-8c92-a6c4dae69d19",
    "_uuid": "8f2839f25d086af736a60e9eeb907d3b93b6e0e5",
    "execution": {
     "iopub.execute_input": "2022-10-22T04:57:51.142310Z",
     "iopub.status.busy": "2022-10-22T04:57:51.141846Z",
     "iopub.status.idle": "2022-10-22T04:57:59.086215Z",
     "shell.execute_reply": "2022-10-22T04:57:59.084735Z"
    },
    "papermill": {
     "duration": 7.958214,
     "end_time": "2022-10-22T04:57:59.089376",
     "exception": false,
     "start_time": "2022-10-22T04:57:51.131162",
     "status": "completed"
    },
    "tags": []
   },
   "outputs": [],
   "source": [
    "import numpy as np # linear algebra\n",
    "import pandas as pd # data processing, CSV file I/O (e.g. pd.read_csv)\n",
    "import matplotlib.pyplot as plt\n",
    "import seaborn as sns\n",
    "import os\n",
    "from keras.models import Sequential\n",
    "from keras.layers import LSTM ,Dense, Dropout"
   ]
  },
  {
   "cell_type": "code",
   "execution_count": 2,
   "id": "74da3311",
   "metadata": {
    "execution": {
     "iopub.execute_input": "2022-10-22T04:57:59.106866Z",
     "iopub.status.busy": "2022-10-22T04:57:59.105656Z",
     "iopub.status.idle": "2022-10-22T04:57:59.111955Z",
     "shell.execute_reply": "2022-10-22T04:57:59.110721Z"
    },
    "papermill": {
     "duration": 0.017428,
     "end_time": "2022-10-22T04:57:59.114296",
     "exception": false,
     "start_time": "2022-10-22T04:57:59.096868",
     "status": "completed"
    },
    "tags": []
   },
   "outputs": [],
   "source": [
    "train_path = \"../input/human-activity-recognition/uci_har_dataset/UCI_HAR_Dataset/train/\"\n",
    "test_path = \"../input/human-activity-recognition/uci_har_dataset/UCI_HAR_Dataset/test/\"\n",
    "features_path = \"../input/human-activity-recognition/uci_har_dataset/UCI_HAR_Dataset/features.txt\""
   ]
  },
  {
   "cell_type": "code",
   "execution_count": 3,
   "id": "1d86a0ca",
   "metadata": {
    "execution": {
     "iopub.execute_input": "2022-10-22T04:57:59.130439Z",
     "iopub.status.busy": "2022-10-22T04:57:59.129933Z",
     "iopub.status.idle": "2022-10-22T04:57:59.148424Z",
     "shell.execute_reply": "2022-10-22T04:57:59.147053Z"
    },
    "papermill": {
     "duration": 0.030297,
     "end_time": "2022-10-22T04:57:59.151476",
     "exception": false,
     "start_time": "2022-10-22T04:57:59.121179",
     "status": "completed"
    },
    "tags": []
   },
   "outputs": [
    {
     "name": "stdout",
     "output_type": "stream",
     "text": [
      "No of Features: 561\n",
      "No. of unique features:477\n"
     ]
    }
   ],
   "source": [
    "features = []\n",
    "with open(features_path) as f:\n",
    "    features = [line.split()[1] for line in f.readlines()]\n",
    "print('No of Features: {}'.format(len(features)))\n",
    "print(\"No. of unique features:{}\".format(len(set(features))))"
   ]
  },
  {
   "cell_type": "code",
   "execution_count": 4,
   "id": "18fe2d30",
   "metadata": {
    "execution": {
     "iopub.execute_input": "2022-10-22T04:57:59.169842Z",
     "iopub.status.busy": "2022-10-22T04:57:59.168811Z",
     "iopub.status.idle": "2022-10-22T04:57:59.174922Z",
     "shell.execute_reply": "2022-10-22T04:57:59.173978Z"
    },
    "papermill": {
     "duration": 0.018484,
     "end_time": "2022-10-22T04:57:59.177501",
     "exception": false,
     "start_time": "2022-10-22T04:57:59.159017",
     "status": "completed"
    },
    "tags": []
   },
   "outputs": [],
   "source": [
    "#LABELS\n",
    "labels = {1: 'WALKING', \n",
    "          2:'WALKING_UPSTAIRS',\n",
    "          3:'WALKING_DOWNSTAIRS',\n",
    "          4:'SITTING',\n",
    "          5:'STANDING',\n",
    "          6:'LAYING'}"
   ]
  },
  {
   "cell_type": "code",
   "execution_count": 5,
   "id": "50634e2b",
   "metadata": {
    "execution": {
     "iopub.execute_input": "2022-10-22T04:57:59.196334Z",
     "iopub.status.busy": "2022-10-22T04:57:59.195256Z",
     "iopub.status.idle": "2022-10-22T04:57:59.229224Z",
     "shell.execute_reply": "2022-10-22T04:57:59.227608Z"
    },
    "papermill": {
     "duration": 0.046968,
     "end_time": "2022-10-22T04:57:59.232638",
     "exception": false,
     "start_time": "2022-10-22T04:57:59.185670",
     "status": "completed"
    },
    "tags": []
   },
   "outputs": [],
   "source": [
    "re=[]\n",
    "for i , f in enumerate(features):\n",
    "    for j in range(i+1 , len(features)):\n",
    "        if features[i]==features[j] and features[i] not in re:\n",
    "            re.append(features[i])"
   ]
  },
  {
   "cell_type": "code",
   "execution_count": 6,
   "id": "2b03b0eb",
   "metadata": {
    "execution": {
     "iopub.execute_input": "2022-10-22T04:57:59.249876Z",
     "iopub.status.busy": "2022-10-22T04:57:59.249424Z",
     "iopub.status.idle": "2022-10-22T04:57:59.257873Z",
     "shell.execute_reply": "2022-10-22T04:57:59.256451Z"
    },
    "papermill": {
     "duration": 0.020109,
     "end_time": "2022-10-22T04:57:59.260416",
     "exception": false,
     "start_time": "2022-10-22T04:57:59.240307",
     "status": "completed"
    },
    "tags": []
   },
   "outputs": [],
   "source": [
    "for i , f in enumerate(features):\n",
    "    features[i] = ''.join(e for e in f if e not in ['(',')' , '-' , ',']) "
   ]
  },
  {
   "cell_type": "code",
   "execution_count": 7,
   "id": "bad8945b",
   "metadata": {
    "execution": {
     "iopub.execute_input": "2022-10-22T04:57:59.278514Z",
     "iopub.status.busy": "2022-10-22T04:57:59.278105Z",
     "iopub.status.idle": "2022-10-22T04:58:01.981514Z",
     "shell.execute_reply": "2022-10-22T04:58:01.980238Z"
    },
    "papermill": {
     "duration": 2.715858,
     "end_time": "2022-10-22T04:58:01.984755",
     "exception": false,
     "start_time": "2022-10-22T04:57:59.268897",
     "status": "completed"
    },
    "tags": []
   },
   "outputs": [],
   "source": [
    "train = pd.read_csv(train_path + \"X_train.txt\" , delim_whitespace=True ,header=None)\n",
    "train.columns = features\n",
    "train['subject'] = pd.read_csv(train_path + 'subject_train.txt' , header=None , squeeze=True)\n",
    "test = pd.read_csv(test_path + \"X_test.txt\" , delim_whitespace=True ,header=None)\n",
    "test.columns = features\n",
    "test['subject'] = pd.read_csv(test_path + 'subject_test.txt' , header=None , squeeze=True)"
   ]
  },
  {
   "cell_type": "code",
   "execution_count": 8,
   "id": "32cb41f5",
   "metadata": {
    "execution": {
     "iopub.execute_input": "2022-10-22T04:58:02.003505Z",
     "iopub.status.busy": "2022-10-22T04:58:02.001936Z",
     "iopub.status.idle": "2022-10-22T04:58:02.039640Z",
     "shell.execute_reply": "2022-10-22T04:58:02.038364Z"
    },
    "papermill": {
     "duration": 0.049784,
     "end_time": "2022-10-22T04:58:02.042268",
     "exception": false,
     "start_time": "2022-10-22T04:58:01.992484",
     "status": "completed"
    },
    "tags": []
   },
   "outputs": [
    {
     "data": {
      "text/html": [
       "<div>\n",
       "<style scoped>\n",
       "    .dataframe tbody tr th:only-of-type {\n",
       "        vertical-align: middle;\n",
       "    }\n",
       "\n",
       "    .dataframe tbody tr th {\n",
       "        vertical-align: top;\n",
       "    }\n",
       "\n",
       "    .dataframe thead th {\n",
       "        text-align: right;\n",
       "    }\n",
       "</style>\n",
       "<table border=\"1\" class=\"dataframe\">\n",
       "  <thead>\n",
       "    <tr style=\"text-align: right;\">\n",
       "      <th></th>\n",
       "      <th>tBodyAccmeanX</th>\n",
       "      <th>tBodyAccmeanY</th>\n",
       "      <th>tBodyAccmeanZ</th>\n",
       "      <th>tBodyAccstdX</th>\n",
       "      <th>tBodyAccstdY</th>\n",
       "      <th>tBodyAccstdZ</th>\n",
       "      <th>tBodyAccmadX</th>\n",
       "      <th>tBodyAccmadY</th>\n",
       "      <th>tBodyAccmadZ</th>\n",
       "      <th>tBodyAccmaxX</th>\n",
       "      <th>...</th>\n",
       "      <th>fBodyBodyGyroJerkMagskewness</th>\n",
       "      <th>fBodyBodyGyroJerkMagkurtosis</th>\n",
       "      <th>angletBodyAccMeangravity</th>\n",
       "      <th>angletBodyAccJerkMeangravityMean</th>\n",
       "      <th>angletBodyGyroMeangravityMean</th>\n",
       "      <th>angletBodyGyroJerkMeangravityMean</th>\n",
       "      <th>angleXgravityMean</th>\n",
       "      <th>angleYgravityMean</th>\n",
       "      <th>angleZgravityMean</th>\n",
       "      <th>subject</th>\n",
       "    </tr>\n",
       "  </thead>\n",
       "  <tbody>\n",
       "    <tr>\n",
       "      <th>0</th>\n",
       "      <td>0.288585</td>\n",
       "      <td>-0.020294</td>\n",
       "      <td>-0.132905</td>\n",
       "      <td>-0.995279</td>\n",
       "      <td>-0.983111</td>\n",
       "      <td>-0.913526</td>\n",
       "      <td>-0.995112</td>\n",
       "      <td>-0.983185</td>\n",
       "      <td>-0.923527</td>\n",
       "      <td>-0.934724</td>\n",
       "      <td>...</td>\n",
       "      <td>-0.298676</td>\n",
       "      <td>-0.710304</td>\n",
       "      <td>-0.112754</td>\n",
       "      <td>0.030400</td>\n",
       "      <td>-0.464761</td>\n",
       "      <td>-0.018446</td>\n",
       "      <td>-0.841247</td>\n",
       "      <td>0.179941</td>\n",
       "      <td>-0.058627</td>\n",
       "      <td>1</td>\n",
       "    </tr>\n",
       "    <tr>\n",
       "      <th>1</th>\n",
       "      <td>0.278419</td>\n",
       "      <td>-0.016411</td>\n",
       "      <td>-0.123520</td>\n",
       "      <td>-0.998245</td>\n",
       "      <td>-0.975300</td>\n",
       "      <td>-0.960322</td>\n",
       "      <td>-0.998807</td>\n",
       "      <td>-0.974914</td>\n",
       "      <td>-0.957686</td>\n",
       "      <td>-0.943068</td>\n",
       "      <td>...</td>\n",
       "      <td>-0.595051</td>\n",
       "      <td>-0.861499</td>\n",
       "      <td>0.053477</td>\n",
       "      <td>-0.007435</td>\n",
       "      <td>-0.732626</td>\n",
       "      <td>0.703511</td>\n",
       "      <td>-0.844788</td>\n",
       "      <td>0.180289</td>\n",
       "      <td>-0.054317</td>\n",
       "      <td>1</td>\n",
       "    </tr>\n",
       "    <tr>\n",
       "      <th>2</th>\n",
       "      <td>0.279653</td>\n",
       "      <td>-0.019467</td>\n",
       "      <td>-0.113462</td>\n",
       "      <td>-0.995380</td>\n",
       "      <td>-0.967187</td>\n",
       "      <td>-0.978944</td>\n",
       "      <td>-0.996520</td>\n",
       "      <td>-0.963668</td>\n",
       "      <td>-0.977469</td>\n",
       "      <td>-0.938692</td>\n",
       "      <td>...</td>\n",
       "      <td>-0.390748</td>\n",
       "      <td>-0.760104</td>\n",
       "      <td>-0.118559</td>\n",
       "      <td>0.177899</td>\n",
       "      <td>0.100699</td>\n",
       "      <td>0.808529</td>\n",
       "      <td>-0.848933</td>\n",
       "      <td>0.180637</td>\n",
       "      <td>-0.049118</td>\n",
       "      <td>1</td>\n",
       "    </tr>\n",
       "    <tr>\n",
       "      <th>3</th>\n",
       "      <td>0.279174</td>\n",
       "      <td>-0.026201</td>\n",
       "      <td>-0.123283</td>\n",
       "      <td>-0.996091</td>\n",
       "      <td>-0.983403</td>\n",
       "      <td>-0.990675</td>\n",
       "      <td>-0.997099</td>\n",
       "      <td>-0.982750</td>\n",
       "      <td>-0.989302</td>\n",
       "      <td>-0.938692</td>\n",
       "      <td>...</td>\n",
       "      <td>-0.117290</td>\n",
       "      <td>-0.482845</td>\n",
       "      <td>-0.036788</td>\n",
       "      <td>-0.012892</td>\n",
       "      <td>0.640011</td>\n",
       "      <td>-0.485366</td>\n",
       "      <td>-0.848649</td>\n",
       "      <td>0.181935</td>\n",
       "      <td>-0.047663</td>\n",
       "      <td>1</td>\n",
       "    </tr>\n",
       "    <tr>\n",
       "      <th>4</th>\n",
       "      <td>0.276629</td>\n",
       "      <td>-0.016570</td>\n",
       "      <td>-0.115362</td>\n",
       "      <td>-0.998139</td>\n",
       "      <td>-0.980817</td>\n",
       "      <td>-0.990482</td>\n",
       "      <td>-0.998321</td>\n",
       "      <td>-0.979672</td>\n",
       "      <td>-0.990441</td>\n",
       "      <td>-0.942469</td>\n",
       "      <td>...</td>\n",
       "      <td>-0.351471</td>\n",
       "      <td>-0.699205</td>\n",
       "      <td>0.123320</td>\n",
       "      <td>0.122542</td>\n",
       "      <td>0.693578</td>\n",
       "      <td>-0.615971</td>\n",
       "      <td>-0.847865</td>\n",
       "      <td>0.185151</td>\n",
       "      <td>-0.043892</td>\n",
       "      <td>1</td>\n",
       "    </tr>\n",
       "  </tbody>\n",
       "</table>\n",
       "<p>5 rows × 562 columns</p>\n",
       "</div>"
      ],
      "text/plain": [
       "   tBodyAccmeanX  tBodyAccmeanY  tBodyAccmeanZ  tBodyAccstdX  tBodyAccstdY  \\\n",
       "0       0.288585      -0.020294      -0.132905     -0.995279     -0.983111   \n",
       "1       0.278419      -0.016411      -0.123520     -0.998245     -0.975300   \n",
       "2       0.279653      -0.019467      -0.113462     -0.995380     -0.967187   \n",
       "3       0.279174      -0.026201      -0.123283     -0.996091     -0.983403   \n",
       "4       0.276629      -0.016570      -0.115362     -0.998139     -0.980817   \n",
       "\n",
       "   tBodyAccstdZ  tBodyAccmadX  tBodyAccmadY  tBodyAccmadZ  tBodyAccmaxX  ...  \\\n",
       "0     -0.913526     -0.995112     -0.983185     -0.923527     -0.934724  ...   \n",
       "1     -0.960322     -0.998807     -0.974914     -0.957686     -0.943068  ...   \n",
       "2     -0.978944     -0.996520     -0.963668     -0.977469     -0.938692  ...   \n",
       "3     -0.990675     -0.997099     -0.982750     -0.989302     -0.938692  ...   \n",
       "4     -0.990482     -0.998321     -0.979672     -0.990441     -0.942469  ...   \n",
       "\n",
       "   fBodyBodyGyroJerkMagskewness  fBodyBodyGyroJerkMagkurtosis  \\\n",
       "0                     -0.298676                     -0.710304   \n",
       "1                     -0.595051                     -0.861499   \n",
       "2                     -0.390748                     -0.760104   \n",
       "3                     -0.117290                     -0.482845   \n",
       "4                     -0.351471                     -0.699205   \n",
       "\n",
       "   angletBodyAccMeangravity  angletBodyAccJerkMeangravityMean  \\\n",
       "0                 -0.112754                          0.030400   \n",
       "1                  0.053477                         -0.007435   \n",
       "2                 -0.118559                          0.177899   \n",
       "3                 -0.036788                         -0.012892   \n",
       "4                  0.123320                          0.122542   \n",
       "\n",
       "   angletBodyGyroMeangravityMean  angletBodyGyroJerkMeangravityMean  \\\n",
       "0                      -0.464761                          -0.018446   \n",
       "1                      -0.732626                           0.703511   \n",
       "2                       0.100699                           0.808529   \n",
       "3                       0.640011                          -0.485366   \n",
       "4                       0.693578                          -0.615971   \n",
       "\n",
       "   angleXgravityMean  angleYgravityMean  angleZgravityMean  subject  \n",
       "0          -0.841247           0.179941          -0.058627        1  \n",
       "1          -0.844788           0.180289          -0.054317        1  \n",
       "2          -0.848933           0.180637          -0.049118        1  \n",
       "3          -0.848649           0.181935          -0.047663        1  \n",
       "4          -0.847865           0.185151          -0.043892        1  \n",
       "\n",
       "[5 rows x 562 columns]"
      ]
     },
     "execution_count": 8,
     "metadata": {},
     "output_type": "execute_result"
    }
   ],
   "source": [
    "train.head()"
   ]
  },
  {
   "cell_type": "code",
   "execution_count": 9,
   "id": "dd83d598",
   "metadata": {
    "execution": {
     "iopub.execute_input": "2022-10-22T04:58:02.059972Z",
     "iopub.status.busy": "2022-10-22T04:58:02.058837Z",
     "iopub.status.idle": "2022-10-22T04:58:02.085367Z",
     "shell.execute_reply": "2022-10-22T04:58:02.084204Z"
    },
    "papermill": {
     "duration": 0.037843,
     "end_time": "2022-10-22T04:58:02.087699",
     "exception": false,
     "start_time": "2022-10-22T04:58:02.049856",
     "status": "completed"
    },
    "tags": []
   },
   "outputs": [
    {
     "data": {
      "text/html": [
       "<div>\n",
       "<style scoped>\n",
       "    .dataframe tbody tr th:only-of-type {\n",
       "        vertical-align: middle;\n",
       "    }\n",
       "\n",
       "    .dataframe tbody tr th {\n",
       "        vertical-align: top;\n",
       "    }\n",
       "\n",
       "    .dataframe thead th {\n",
       "        text-align: right;\n",
       "    }\n",
       "</style>\n",
       "<table border=\"1\" class=\"dataframe\">\n",
       "  <thead>\n",
       "    <tr style=\"text-align: right;\">\n",
       "      <th></th>\n",
       "      <th>tBodyAccmeanX</th>\n",
       "      <th>tBodyAccmeanY</th>\n",
       "      <th>tBodyAccmeanZ</th>\n",
       "      <th>tBodyAccstdX</th>\n",
       "      <th>tBodyAccstdY</th>\n",
       "      <th>tBodyAccstdZ</th>\n",
       "      <th>tBodyAccmadX</th>\n",
       "      <th>tBodyAccmadY</th>\n",
       "      <th>tBodyAccmadZ</th>\n",
       "      <th>tBodyAccmaxX</th>\n",
       "      <th>...</th>\n",
       "      <th>fBodyBodyGyroJerkMagskewness</th>\n",
       "      <th>fBodyBodyGyroJerkMagkurtosis</th>\n",
       "      <th>angletBodyAccMeangravity</th>\n",
       "      <th>angletBodyAccJerkMeangravityMean</th>\n",
       "      <th>angletBodyGyroMeangravityMean</th>\n",
       "      <th>angletBodyGyroJerkMeangravityMean</th>\n",
       "      <th>angleXgravityMean</th>\n",
       "      <th>angleYgravityMean</th>\n",
       "      <th>angleZgravityMean</th>\n",
       "      <th>subject</th>\n",
       "    </tr>\n",
       "  </thead>\n",
       "  <tbody>\n",
       "    <tr>\n",
       "      <th>0</th>\n",
       "      <td>0.257178</td>\n",
       "      <td>-0.023285</td>\n",
       "      <td>-0.014654</td>\n",
       "      <td>-0.938404</td>\n",
       "      <td>-0.920091</td>\n",
       "      <td>-0.667683</td>\n",
       "      <td>-0.952501</td>\n",
       "      <td>-0.925249</td>\n",
       "      <td>-0.674302</td>\n",
       "      <td>-0.894088</td>\n",
       "      <td>...</td>\n",
       "      <td>-0.330370</td>\n",
       "      <td>-0.705974</td>\n",
       "      <td>0.006462</td>\n",
       "      <td>0.162920</td>\n",
       "      <td>-0.825886</td>\n",
       "      <td>0.271151</td>\n",
       "      <td>-0.720009</td>\n",
       "      <td>0.276801</td>\n",
       "      <td>-0.057978</td>\n",
       "      <td>2</td>\n",
       "    </tr>\n",
       "    <tr>\n",
       "      <th>1</th>\n",
       "      <td>0.286027</td>\n",
       "      <td>-0.013163</td>\n",
       "      <td>-0.119083</td>\n",
       "      <td>-0.975415</td>\n",
       "      <td>-0.967458</td>\n",
       "      <td>-0.944958</td>\n",
       "      <td>-0.986799</td>\n",
       "      <td>-0.968401</td>\n",
       "      <td>-0.945823</td>\n",
       "      <td>-0.894088</td>\n",
       "      <td>...</td>\n",
       "      <td>-0.121845</td>\n",
       "      <td>-0.594944</td>\n",
       "      <td>-0.083495</td>\n",
       "      <td>0.017500</td>\n",
       "      <td>-0.434375</td>\n",
       "      <td>0.920593</td>\n",
       "      <td>-0.698091</td>\n",
       "      <td>0.281343</td>\n",
       "      <td>-0.083898</td>\n",
       "      <td>2</td>\n",
       "    </tr>\n",
       "    <tr>\n",
       "      <th>2</th>\n",
       "      <td>0.275485</td>\n",
       "      <td>-0.026050</td>\n",
       "      <td>-0.118152</td>\n",
       "      <td>-0.993819</td>\n",
       "      <td>-0.969926</td>\n",
       "      <td>-0.962748</td>\n",
       "      <td>-0.994403</td>\n",
       "      <td>-0.970735</td>\n",
       "      <td>-0.963483</td>\n",
       "      <td>-0.939260</td>\n",
       "      <td>...</td>\n",
       "      <td>-0.190422</td>\n",
       "      <td>-0.640736</td>\n",
       "      <td>-0.034956</td>\n",
       "      <td>0.202302</td>\n",
       "      <td>0.064103</td>\n",
       "      <td>0.145068</td>\n",
       "      <td>-0.702771</td>\n",
       "      <td>0.280083</td>\n",
       "      <td>-0.079346</td>\n",
       "      <td>2</td>\n",
       "    </tr>\n",
       "    <tr>\n",
       "      <th>3</th>\n",
       "      <td>0.270298</td>\n",
       "      <td>-0.032614</td>\n",
       "      <td>-0.117520</td>\n",
       "      <td>-0.994743</td>\n",
       "      <td>-0.973268</td>\n",
       "      <td>-0.967091</td>\n",
       "      <td>-0.995274</td>\n",
       "      <td>-0.974471</td>\n",
       "      <td>-0.968897</td>\n",
       "      <td>-0.938610</td>\n",
       "      <td>...</td>\n",
       "      <td>-0.344418</td>\n",
       "      <td>-0.736124</td>\n",
       "      <td>-0.017067</td>\n",
       "      <td>0.154438</td>\n",
       "      <td>0.340134</td>\n",
       "      <td>0.296407</td>\n",
       "      <td>-0.698954</td>\n",
       "      <td>0.284114</td>\n",
       "      <td>-0.077108</td>\n",
       "      <td>2</td>\n",
       "    </tr>\n",
       "    <tr>\n",
       "      <th>4</th>\n",
       "      <td>0.274833</td>\n",
       "      <td>-0.027848</td>\n",
       "      <td>-0.129527</td>\n",
       "      <td>-0.993852</td>\n",
       "      <td>-0.967445</td>\n",
       "      <td>-0.978295</td>\n",
       "      <td>-0.994111</td>\n",
       "      <td>-0.965953</td>\n",
       "      <td>-0.977346</td>\n",
       "      <td>-0.938610</td>\n",
       "      <td>...</td>\n",
       "      <td>-0.534685</td>\n",
       "      <td>-0.846595</td>\n",
       "      <td>-0.002223</td>\n",
       "      <td>-0.040046</td>\n",
       "      <td>0.736715</td>\n",
       "      <td>-0.118545</td>\n",
       "      <td>-0.692245</td>\n",
       "      <td>0.290722</td>\n",
       "      <td>-0.073857</td>\n",
       "      <td>2</td>\n",
       "    </tr>\n",
       "  </tbody>\n",
       "</table>\n",
       "<p>5 rows × 562 columns</p>\n",
       "</div>"
      ],
      "text/plain": [
       "   tBodyAccmeanX  tBodyAccmeanY  tBodyAccmeanZ  tBodyAccstdX  tBodyAccstdY  \\\n",
       "0       0.257178      -0.023285      -0.014654     -0.938404     -0.920091   \n",
       "1       0.286027      -0.013163      -0.119083     -0.975415     -0.967458   \n",
       "2       0.275485      -0.026050      -0.118152     -0.993819     -0.969926   \n",
       "3       0.270298      -0.032614      -0.117520     -0.994743     -0.973268   \n",
       "4       0.274833      -0.027848      -0.129527     -0.993852     -0.967445   \n",
       "\n",
       "   tBodyAccstdZ  tBodyAccmadX  tBodyAccmadY  tBodyAccmadZ  tBodyAccmaxX  ...  \\\n",
       "0     -0.667683     -0.952501     -0.925249     -0.674302     -0.894088  ...   \n",
       "1     -0.944958     -0.986799     -0.968401     -0.945823     -0.894088  ...   \n",
       "2     -0.962748     -0.994403     -0.970735     -0.963483     -0.939260  ...   \n",
       "3     -0.967091     -0.995274     -0.974471     -0.968897     -0.938610  ...   \n",
       "4     -0.978295     -0.994111     -0.965953     -0.977346     -0.938610  ...   \n",
       "\n",
       "   fBodyBodyGyroJerkMagskewness  fBodyBodyGyroJerkMagkurtosis  \\\n",
       "0                     -0.330370                     -0.705974   \n",
       "1                     -0.121845                     -0.594944   \n",
       "2                     -0.190422                     -0.640736   \n",
       "3                     -0.344418                     -0.736124   \n",
       "4                     -0.534685                     -0.846595   \n",
       "\n",
       "   angletBodyAccMeangravity  angletBodyAccJerkMeangravityMean  \\\n",
       "0                  0.006462                          0.162920   \n",
       "1                 -0.083495                          0.017500   \n",
       "2                 -0.034956                          0.202302   \n",
       "3                 -0.017067                          0.154438   \n",
       "4                 -0.002223                         -0.040046   \n",
       "\n",
       "   angletBodyGyroMeangravityMean  angletBodyGyroJerkMeangravityMean  \\\n",
       "0                      -0.825886                           0.271151   \n",
       "1                      -0.434375                           0.920593   \n",
       "2                       0.064103                           0.145068   \n",
       "3                       0.340134                           0.296407   \n",
       "4                       0.736715                          -0.118545   \n",
       "\n",
       "   angleXgravityMean  angleYgravityMean  angleZgravityMean  subject  \n",
       "0          -0.720009           0.276801          -0.057978        2  \n",
       "1          -0.698091           0.281343          -0.083898        2  \n",
       "2          -0.702771           0.280083          -0.079346        2  \n",
       "3          -0.698954           0.284114          -0.077108        2  \n",
       "4          -0.692245           0.290722          -0.073857        2  \n",
       "\n",
       "[5 rows x 562 columns]"
      ]
     },
     "execution_count": 9,
     "metadata": {},
     "output_type": "execute_result"
    }
   ],
   "source": [
    "test.head()"
   ]
  },
  {
   "cell_type": "code",
   "execution_count": 10,
   "id": "cabf0ef6",
   "metadata": {
    "execution": {
     "iopub.execute_input": "2022-10-22T04:58:02.105993Z",
     "iopub.status.busy": "2022-10-22T04:58:02.105354Z",
     "iopub.status.idle": "2022-10-22T04:58:02.128387Z",
     "shell.execute_reply": "2022-10-22T04:58:02.127209Z"
    },
    "papermill": {
     "duration": 0.034744,
     "end_time": "2022-10-22T04:58:02.131110",
     "exception": false,
     "start_time": "2022-10-22T04:58:02.096366",
     "status": "completed"
    },
    "tags": []
   },
   "outputs": [],
   "source": [
    "y_train = pd.read_csv(train_path + 'y_train.txt' , names=['Activity'] , squeeze=True)\n",
    "y_test = pd.read_csv(test_path + 'y_test.txt' , names=['Activity'] , squeeze=True)"
   ]
  },
  {
   "cell_type": "code",
   "execution_count": 11,
   "id": "04d0f42b",
   "metadata": {
    "execution": {
     "iopub.execute_input": "2022-10-22T04:58:02.149946Z",
     "iopub.status.busy": "2022-10-22T04:58:02.149495Z",
     "iopub.status.idle": "2022-10-22T04:58:02.162577Z",
     "shell.execute_reply": "2022-10-22T04:58:02.161280Z"
    },
    "papermill": {
     "duration": 0.026571,
     "end_time": "2022-10-22T04:58:02.165609",
     "exception": false,
     "start_time": "2022-10-22T04:58:02.139038",
     "status": "completed"
    },
    "tags": []
   },
   "outputs": [],
   "source": [
    "train['Activity']= y_train\n",
    "test['Activity'] = y_test\n",
    "train['ActivityName'] = y_train.map(labels)\n",
    "test['ActivityName']  = y_test.map(labels)"
   ]
  },
  {
   "cell_type": "code",
   "execution_count": 12,
   "id": "0cca3468",
   "metadata": {
    "execution": {
     "iopub.execute_input": "2022-10-22T04:58:02.184727Z",
     "iopub.status.busy": "2022-10-22T04:58:02.184255Z",
     "iopub.status.idle": "2022-10-22T04:58:02.213802Z",
     "shell.execute_reply": "2022-10-22T04:58:02.212277Z"
    },
    "papermill": {
     "duration": 0.042594,
     "end_time": "2022-10-22T04:58:02.216693",
     "exception": false,
     "start_time": "2022-10-22T04:58:02.174099",
     "status": "completed"
    },
    "tags": []
   },
   "outputs": [
    {
     "data": {
      "text/html": [
       "<div>\n",
       "<style scoped>\n",
       "    .dataframe tbody tr th:only-of-type {\n",
       "        vertical-align: middle;\n",
       "    }\n",
       "\n",
       "    .dataframe tbody tr th {\n",
       "        vertical-align: top;\n",
       "    }\n",
       "\n",
       "    .dataframe thead th {\n",
       "        text-align: right;\n",
       "    }\n",
       "</style>\n",
       "<table border=\"1\" class=\"dataframe\">\n",
       "  <thead>\n",
       "    <tr style=\"text-align: right;\">\n",
       "      <th></th>\n",
       "      <th>tBodyAccmeanX</th>\n",
       "      <th>tBodyAccmeanY</th>\n",
       "      <th>tBodyAccmeanZ</th>\n",
       "      <th>tBodyAccstdX</th>\n",
       "      <th>tBodyAccstdY</th>\n",
       "      <th>tBodyAccstdZ</th>\n",
       "      <th>tBodyAccmadX</th>\n",
       "      <th>tBodyAccmadY</th>\n",
       "      <th>tBodyAccmadZ</th>\n",
       "      <th>tBodyAccmaxX</th>\n",
       "      <th>...</th>\n",
       "      <th>angletBodyAccMeangravity</th>\n",
       "      <th>angletBodyAccJerkMeangravityMean</th>\n",
       "      <th>angletBodyGyroMeangravityMean</th>\n",
       "      <th>angletBodyGyroJerkMeangravityMean</th>\n",
       "      <th>angleXgravityMean</th>\n",
       "      <th>angleYgravityMean</th>\n",
       "      <th>angleZgravityMean</th>\n",
       "      <th>subject</th>\n",
       "      <th>Activity</th>\n",
       "      <th>ActivityName</th>\n",
       "    </tr>\n",
       "  </thead>\n",
       "  <tbody>\n",
       "    <tr>\n",
       "      <th>0</th>\n",
       "      <td>0.288585</td>\n",
       "      <td>-0.020294</td>\n",
       "      <td>-0.132905</td>\n",
       "      <td>-0.995279</td>\n",
       "      <td>-0.983111</td>\n",
       "      <td>-0.913526</td>\n",
       "      <td>-0.995112</td>\n",
       "      <td>-0.983185</td>\n",
       "      <td>-0.923527</td>\n",
       "      <td>-0.934724</td>\n",
       "      <td>...</td>\n",
       "      <td>-0.112754</td>\n",
       "      <td>0.030400</td>\n",
       "      <td>-0.464761</td>\n",
       "      <td>-0.018446</td>\n",
       "      <td>-0.841247</td>\n",
       "      <td>0.179941</td>\n",
       "      <td>-0.058627</td>\n",
       "      <td>1</td>\n",
       "      <td>5</td>\n",
       "      <td>STANDING</td>\n",
       "    </tr>\n",
       "    <tr>\n",
       "      <th>1</th>\n",
       "      <td>0.278419</td>\n",
       "      <td>-0.016411</td>\n",
       "      <td>-0.123520</td>\n",
       "      <td>-0.998245</td>\n",
       "      <td>-0.975300</td>\n",
       "      <td>-0.960322</td>\n",
       "      <td>-0.998807</td>\n",
       "      <td>-0.974914</td>\n",
       "      <td>-0.957686</td>\n",
       "      <td>-0.943068</td>\n",
       "      <td>...</td>\n",
       "      <td>0.053477</td>\n",
       "      <td>-0.007435</td>\n",
       "      <td>-0.732626</td>\n",
       "      <td>0.703511</td>\n",
       "      <td>-0.844788</td>\n",
       "      <td>0.180289</td>\n",
       "      <td>-0.054317</td>\n",
       "      <td>1</td>\n",
       "      <td>5</td>\n",
       "      <td>STANDING</td>\n",
       "    </tr>\n",
       "    <tr>\n",
       "      <th>2</th>\n",
       "      <td>0.279653</td>\n",
       "      <td>-0.019467</td>\n",
       "      <td>-0.113462</td>\n",
       "      <td>-0.995380</td>\n",
       "      <td>-0.967187</td>\n",
       "      <td>-0.978944</td>\n",
       "      <td>-0.996520</td>\n",
       "      <td>-0.963668</td>\n",
       "      <td>-0.977469</td>\n",
       "      <td>-0.938692</td>\n",
       "      <td>...</td>\n",
       "      <td>-0.118559</td>\n",
       "      <td>0.177899</td>\n",
       "      <td>0.100699</td>\n",
       "      <td>0.808529</td>\n",
       "      <td>-0.848933</td>\n",
       "      <td>0.180637</td>\n",
       "      <td>-0.049118</td>\n",
       "      <td>1</td>\n",
       "      <td>5</td>\n",
       "      <td>STANDING</td>\n",
       "    </tr>\n",
       "    <tr>\n",
       "      <th>3</th>\n",
       "      <td>0.279174</td>\n",
       "      <td>-0.026201</td>\n",
       "      <td>-0.123283</td>\n",
       "      <td>-0.996091</td>\n",
       "      <td>-0.983403</td>\n",
       "      <td>-0.990675</td>\n",
       "      <td>-0.997099</td>\n",
       "      <td>-0.982750</td>\n",
       "      <td>-0.989302</td>\n",
       "      <td>-0.938692</td>\n",
       "      <td>...</td>\n",
       "      <td>-0.036788</td>\n",
       "      <td>-0.012892</td>\n",
       "      <td>0.640011</td>\n",
       "      <td>-0.485366</td>\n",
       "      <td>-0.848649</td>\n",
       "      <td>0.181935</td>\n",
       "      <td>-0.047663</td>\n",
       "      <td>1</td>\n",
       "      <td>5</td>\n",
       "      <td>STANDING</td>\n",
       "    </tr>\n",
       "    <tr>\n",
       "      <th>4</th>\n",
       "      <td>0.276629</td>\n",
       "      <td>-0.016570</td>\n",
       "      <td>-0.115362</td>\n",
       "      <td>-0.998139</td>\n",
       "      <td>-0.980817</td>\n",
       "      <td>-0.990482</td>\n",
       "      <td>-0.998321</td>\n",
       "      <td>-0.979672</td>\n",
       "      <td>-0.990441</td>\n",
       "      <td>-0.942469</td>\n",
       "      <td>...</td>\n",
       "      <td>0.123320</td>\n",
       "      <td>0.122542</td>\n",
       "      <td>0.693578</td>\n",
       "      <td>-0.615971</td>\n",
       "      <td>-0.847865</td>\n",
       "      <td>0.185151</td>\n",
       "      <td>-0.043892</td>\n",
       "      <td>1</td>\n",
       "      <td>5</td>\n",
       "      <td>STANDING</td>\n",
       "    </tr>\n",
       "  </tbody>\n",
       "</table>\n",
       "<p>5 rows × 564 columns</p>\n",
       "</div>"
      ],
      "text/plain": [
       "   tBodyAccmeanX  tBodyAccmeanY  tBodyAccmeanZ  tBodyAccstdX  tBodyAccstdY  \\\n",
       "0       0.288585      -0.020294      -0.132905     -0.995279     -0.983111   \n",
       "1       0.278419      -0.016411      -0.123520     -0.998245     -0.975300   \n",
       "2       0.279653      -0.019467      -0.113462     -0.995380     -0.967187   \n",
       "3       0.279174      -0.026201      -0.123283     -0.996091     -0.983403   \n",
       "4       0.276629      -0.016570      -0.115362     -0.998139     -0.980817   \n",
       "\n",
       "   tBodyAccstdZ  tBodyAccmadX  tBodyAccmadY  tBodyAccmadZ  tBodyAccmaxX  ...  \\\n",
       "0     -0.913526     -0.995112     -0.983185     -0.923527     -0.934724  ...   \n",
       "1     -0.960322     -0.998807     -0.974914     -0.957686     -0.943068  ...   \n",
       "2     -0.978944     -0.996520     -0.963668     -0.977469     -0.938692  ...   \n",
       "3     -0.990675     -0.997099     -0.982750     -0.989302     -0.938692  ...   \n",
       "4     -0.990482     -0.998321     -0.979672     -0.990441     -0.942469  ...   \n",
       "\n",
       "   angletBodyAccMeangravity  angletBodyAccJerkMeangravityMean  \\\n",
       "0                 -0.112754                          0.030400   \n",
       "1                  0.053477                         -0.007435   \n",
       "2                 -0.118559                          0.177899   \n",
       "3                 -0.036788                         -0.012892   \n",
       "4                  0.123320                          0.122542   \n",
       "\n",
       "   angletBodyGyroMeangravityMean  angletBodyGyroJerkMeangravityMean  \\\n",
       "0                      -0.464761                          -0.018446   \n",
       "1                      -0.732626                           0.703511   \n",
       "2                       0.100699                           0.808529   \n",
       "3                       0.640011                          -0.485366   \n",
       "4                       0.693578                          -0.615971   \n",
       "\n",
       "   angleXgravityMean  angleYgravityMean  angleZgravityMean  subject  Activity  \\\n",
       "0          -0.841247           0.179941          -0.058627        1         5   \n",
       "1          -0.844788           0.180289          -0.054317        1         5   \n",
       "2          -0.848933           0.180637          -0.049118        1         5   \n",
       "3          -0.848649           0.181935          -0.047663        1         5   \n",
       "4          -0.847865           0.185151          -0.043892        1         5   \n",
       "\n",
       "   ActivityName  \n",
       "0      STANDING  \n",
       "1      STANDING  \n",
       "2      STANDING  \n",
       "3      STANDING  \n",
       "4      STANDING  \n",
       "\n",
       "[5 rows x 564 columns]"
      ]
     },
     "execution_count": 12,
     "metadata": {},
     "output_type": "execute_result"
    }
   ],
   "source": [
    "train.head()"
   ]
  },
  {
   "cell_type": "code",
   "execution_count": 13,
   "id": "634b269b",
   "metadata": {
    "execution": {
     "iopub.execute_input": "2022-10-22T04:58:02.236336Z",
     "iopub.status.busy": "2022-10-22T04:58:02.235886Z",
     "iopub.status.idle": "2022-10-22T04:58:02.264011Z",
     "shell.execute_reply": "2022-10-22T04:58:02.262676Z"
    },
    "papermill": {
     "duration": 0.041614,
     "end_time": "2022-10-22T04:58:02.266909",
     "exception": false,
     "start_time": "2022-10-22T04:58:02.225295",
     "status": "completed"
    },
    "tags": []
   },
   "outputs": [
    {
     "data": {
      "text/html": [
       "<div>\n",
       "<style scoped>\n",
       "    .dataframe tbody tr th:only-of-type {\n",
       "        vertical-align: middle;\n",
       "    }\n",
       "\n",
       "    .dataframe tbody tr th {\n",
       "        vertical-align: top;\n",
       "    }\n",
       "\n",
       "    .dataframe thead th {\n",
       "        text-align: right;\n",
       "    }\n",
       "</style>\n",
       "<table border=\"1\" class=\"dataframe\">\n",
       "  <thead>\n",
       "    <tr style=\"text-align: right;\">\n",
       "      <th></th>\n",
       "      <th>tBodyAccmeanX</th>\n",
       "      <th>tBodyAccmeanY</th>\n",
       "      <th>tBodyAccmeanZ</th>\n",
       "      <th>tBodyAccstdX</th>\n",
       "      <th>tBodyAccstdY</th>\n",
       "      <th>tBodyAccstdZ</th>\n",
       "      <th>tBodyAccmadX</th>\n",
       "      <th>tBodyAccmadY</th>\n",
       "      <th>tBodyAccmadZ</th>\n",
       "      <th>tBodyAccmaxX</th>\n",
       "      <th>...</th>\n",
       "      <th>angletBodyAccMeangravity</th>\n",
       "      <th>angletBodyAccJerkMeangravityMean</th>\n",
       "      <th>angletBodyGyroMeangravityMean</th>\n",
       "      <th>angletBodyGyroJerkMeangravityMean</th>\n",
       "      <th>angleXgravityMean</th>\n",
       "      <th>angleYgravityMean</th>\n",
       "      <th>angleZgravityMean</th>\n",
       "      <th>subject</th>\n",
       "      <th>Activity</th>\n",
       "      <th>ActivityName</th>\n",
       "    </tr>\n",
       "  </thead>\n",
       "  <tbody>\n",
       "    <tr>\n",
       "      <th>0</th>\n",
       "      <td>0.257178</td>\n",
       "      <td>-0.023285</td>\n",
       "      <td>-0.014654</td>\n",
       "      <td>-0.938404</td>\n",
       "      <td>-0.920091</td>\n",
       "      <td>-0.667683</td>\n",
       "      <td>-0.952501</td>\n",
       "      <td>-0.925249</td>\n",
       "      <td>-0.674302</td>\n",
       "      <td>-0.894088</td>\n",
       "      <td>...</td>\n",
       "      <td>0.006462</td>\n",
       "      <td>0.162920</td>\n",
       "      <td>-0.825886</td>\n",
       "      <td>0.271151</td>\n",
       "      <td>-0.720009</td>\n",
       "      <td>0.276801</td>\n",
       "      <td>-0.057978</td>\n",
       "      <td>2</td>\n",
       "      <td>5</td>\n",
       "      <td>STANDING</td>\n",
       "    </tr>\n",
       "    <tr>\n",
       "      <th>1</th>\n",
       "      <td>0.286027</td>\n",
       "      <td>-0.013163</td>\n",
       "      <td>-0.119083</td>\n",
       "      <td>-0.975415</td>\n",
       "      <td>-0.967458</td>\n",
       "      <td>-0.944958</td>\n",
       "      <td>-0.986799</td>\n",
       "      <td>-0.968401</td>\n",
       "      <td>-0.945823</td>\n",
       "      <td>-0.894088</td>\n",
       "      <td>...</td>\n",
       "      <td>-0.083495</td>\n",
       "      <td>0.017500</td>\n",
       "      <td>-0.434375</td>\n",
       "      <td>0.920593</td>\n",
       "      <td>-0.698091</td>\n",
       "      <td>0.281343</td>\n",
       "      <td>-0.083898</td>\n",
       "      <td>2</td>\n",
       "      <td>5</td>\n",
       "      <td>STANDING</td>\n",
       "    </tr>\n",
       "    <tr>\n",
       "      <th>2</th>\n",
       "      <td>0.275485</td>\n",
       "      <td>-0.026050</td>\n",
       "      <td>-0.118152</td>\n",
       "      <td>-0.993819</td>\n",
       "      <td>-0.969926</td>\n",
       "      <td>-0.962748</td>\n",
       "      <td>-0.994403</td>\n",
       "      <td>-0.970735</td>\n",
       "      <td>-0.963483</td>\n",
       "      <td>-0.939260</td>\n",
       "      <td>...</td>\n",
       "      <td>-0.034956</td>\n",
       "      <td>0.202302</td>\n",
       "      <td>0.064103</td>\n",
       "      <td>0.145068</td>\n",
       "      <td>-0.702771</td>\n",
       "      <td>0.280083</td>\n",
       "      <td>-0.079346</td>\n",
       "      <td>2</td>\n",
       "      <td>5</td>\n",
       "      <td>STANDING</td>\n",
       "    </tr>\n",
       "    <tr>\n",
       "      <th>3</th>\n",
       "      <td>0.270298</td>\n",
       "      <td>-0.032614</td>\n",
       "      <td>-0.117520</td>\n",
       "      <td>-0.994743</td>\n",
       "      <td>-0.973268</td>\n",
       "      <td>-0.967091</td>\n",
       "      <td>-0.995274</td>\n",
       "      <td>-0.974471</td>\n",
       "      <td>-0.968897</td>\n",
       "      <td>-0.938610</td>\n",
       "      <td>...</td>\n",
       "      <td>-0.017067</td>\n",
       "      <td>0.154438</td>\n",
       "      <td>0.340134</td>\n",
       "      <td>0.296407</td>\n",
       "      <td>-0.698954</td>\n",
       "      <td>0.284114</td>\n",
       "      <td>-0.077108</td>\n",
       "      <td>2</td>\n",
       "      <td>5</td>\n",
       "      <td>STANDING</td>\n",
       "    </tr>\n",
       "    <tr>\n",
       "      <th>4</th>\n",
       "      <td>0.274833</td>\n",
       "      <td>-0.027848</td>\n",
       "      <td>-0.129527</td>\n",
       "      <td>-0.993852</td>\n",
       "      <td>-0.967445</td>\n",
       "      <td>-0.978295</td>\n",
       "      <td>-0.994111</td>\n",
       "      <td>-0.965953</td>\n",
       "      <td>-0.977346</td>\n",
       "      <td>-0.938610</td>\n",
       "      <td>...</td>\n",
       "      <td>-0.002223</td>\n",
       "      <td>-0.040046</td>\n",
       "      <td>0.736715</td>\n",
       "      <td>-0.118545</td>\n",
       "      <td>-0.692245</td>\n",
       "      <td>0.290722</td>\n",
       "      <td>-0.073857</td>\n",
       "      <td>2</td>\n",
       "      <td>5</td>\n",
       "      <td>STANDING</td>\n",
       "    </tr>\n",
       "  </tbody>\n",
       "</table>\n",
       "<p>5 rows × 564 columns</p>\n",
       "</div>"
      ],
      "text/plain": [
       "   tBodyAccmeanX  tBodyAccmeanY  tBodyAccmeanZ  tBodyAccstdX  tBodyAccstdY  \\\n",
       "0       0.257178      -0.023285      -0.014654     -0.938404     -0.920091   \n",
       "1       0.286027      -0.013163      -0.119083     -0.975415     -0.967458   \n",
       "2       0.275485      -0.026050      -0.118152     -0.993819     -0.969926   \n",
       "3       0.270298      -0.032614      -0.117520     -0.994743     -0.973268   \n",
       "4       0.274833      -0.027848      -0.129527     -0.993852     -0.967445   \n",
       "\n",
       "   tBodyAccstdZ  tBodyAccmadX  tBodyAccmadY  tBodyAccmadZ  tBodyAccmaxX  ...  \\\n",
       "0     -0.667683     -0.952501     -0.925249     -0.674302     -0.894088  ...   \n",
       "1     -0.944958     -0.986799     -0.968401     -0.945823     -0.894088  ...   \n",
       "2     -0.962748     -0.994403     -0.970735     -0.963483     -0.939260  ...   \n",
       "3     -0.967091     -0.995274     -0.974471     -0.968897     -0.938610  ...   \n",
       "4     -0.978295     -0.994111     -0.965953     -0.977346     -0.938610  ...   \n",
       "\n",
       "   angletBodyAccMeangravity  angletBodyAccJerkMeangravityMean  \\\n",
       "0                  0.006462                          0.162920   \n",
       "1                 -0.083495                          0.017500   \n",
       "2                 -0.034956                          0.202302   \n",
       "3                 -0.017067                          0.154438   \n",
       "4                 -0.002223                         -0.040046   \n",
       "\n",
       "   angletBodyGyroMeangravityMean  angletBodyGyroJerkMeangravityMean  \\\n",
       "0                      -0.825886                           0.271151   \n",
       "1                      -0.434375                           0.920593   \n",
       "2                       0.064103                           0.145068   \n",
       "3                       0.340134                           0.296407   \n",
       "4                       0.736715                          -0.118545   \n",
       "\n",
       "   angleXgravityMean  angleYgravityMean  angleZgravityMean  subject  Activity  \\\n",
       "0          -0.720009           0.276801          -0.057978        2         5   \n",
       "1          -0.698091           0.281343          -0.083898        2         5   \n",
       "2          -0.702771           0.280083          -0.079346        2         5   \n",
       "3          -0.698954           0.284114          -0.077108        2         5   \n",
       "4          -0.692245           0.290722          -0.073857        2         5   \n",
       "\n",
       "   ActivityName  \n",
       "0      STANDING  \n",
       "1      STANDING  \n",
       "2      STANDING  \n",
       "3      STANDING  \n",
       "4      STANDING  \n",
       "\n",
       "[5 rows x 564 columns]"
      ]
     },
     "execution_count": 13,
     "metadata": {},
     "output_type": "execute_result"
    }
   ],
   "source": [
    "test.head()"
   ]
  },
  {
   "cell_type": "code",
   "execution_count": 14,
   "id": "ce0eedbd",
   "metadata": {
    "execution": {
     "iopub.execute_input": "2022-10-22T04:58:02.287427Z",
     "iopub.status.busy": "2022-10-22T04:58:02.286950Z",
     "iopub.status.idle": "2022-10-22T04:58:02.324944Z",
     "shell.execute_reply": "2022-10-22T04:58:02.323719Z"
    },
    "papermill": {
     "duration": 0.051753,
     "end_time": "2022-10-22T04:58:02.327811",
     "exception": false,
     "start_time": "2022-10-22T04:58:02.276058",
     "status": "completed"
    },
    "tags": []
   },
   "outputs": [],
   "source": [
    "X_train=train.drop([\"Activity\",\"ActivityName\"],axis=1)\n",
    "Y_train=train.Activity\n",
    "X_test=test.drop([\"Activity\",\"ActivityName\"],axis=1)\n",
    "Y_test=test.Activity"
   ]
  },
  {
   "cell_type": "markdown",
   "id": "a1796621",
   "metadata": {
    "papermill": {
     "duration": 0.008055,
     "end_time": "2022-10-22T04:58:02.344514",
     "exception": false,
     "start_time": "2022-10-22T04:58:02.336459",
     "status": "completed"
    },
    "tags": []
   },
   "source": [
    "**DecisionTreeClassifier**"
   ]
  },
  {
   "cell_type": "code",
   "execution_count": 15,
   "id": "e4ea5c7b",
   "metadata": {
    "execution": {
     "iopub.execute_input": "2022-10-22T04:58:02.363377Z",
     "iopub.status.busy": "2022-10-22T04:58:02.362923Z",
     "iopub.status.idle": "2022-10-22T04:58:07.803173Z",
     "shell.execute_reply": "2022-10-22T04:58:07.801912Z"
    },
    "papermill": {
     "duration": 5.453644,
     "end_time": "2022-10-22T04:58:07.806389",
     "exception": false,
     "start_time": "2022-10-22T04:58:02.352745",
     "status": "completed"
    },
    "tags": []
   },
   "outputs": [
    {
     "name": "stdout",
     "output_type": "stream",
     "text": [
      "The accuracy of Decision Tree is: 0.838140481845945\n",
      "CLASSIFICATION REPORT\n",
      "              precision    recall  f1-score   support\n",
      "\n",
      "           1       0.78      0.92      0.85       496\n",
      "           2       0.82      0.70      0.76       471\n",
      "           3       0.87      0.82      0.85       420\n",
      "           4       0.79      0.74      0.76       491\n",
      "           5       0.77      0.82      0.80       532\n",
      "           6       1.00      1.00      1.00       537\n",
      "\n",
      "    accuracy                           0.84      2947\n",
      "   macro avg       0.84      0.83      0.83      2947\n",
      "weighted avg       0.84      0.84      0.84      2947\n",
      "\n"
     ]
    },
    {
     "name": "stderr",
     "output_type": "stream",
     "text": [
      "/opt/conda/lib/python3.7/site-packages/sklearn/utils/deprecation.py:87: FutureWarning: Function plot_confusion_matrix is deprecated; Function `plot_confusion_matrix` is deprecated in 1.0 and will be removed in 1.2. Use one of the class methods: ConfusionMatrixDisplay.from_predictions or ConfusionMatrixDisplay.from_estimator.\n",
      "  warnings.warn(msg, category=FutureWarning)\n"
     ]
    },
    {
     "data": {
      "image/png": "[encoded data removed]",
      "text/plain": [
       "<Figure size 432x288 with 2 Axes>"
      ]
     },
     "metadata": {
      "needs_background": "light"
     },
     "output_type": "display_data"
    }
   ],
   "source": [
    "from sklearn.tree import DecisionTreeClassifier\n",
    "from sklearn import metrics\n",
    "from sklearn.metrics import plot_confusion_matrix\n",
    "from sklearn.metrics import classification_report\n",
    "decisiontree=DecisionTreeClassifier(criterion='entropy')\n",
    "decisiontree.fit(X_train,Y_train)\n",
    "pred=decisiontree.predict(X_test)\n",
    "print(\"The accuracy of Decision Tree is:\",metrics.accuracy_score(pred,Y_test))\n",
    "print(\"CLASSIFICATION REPORT\")\n",
    "print(classification_report(y_test, pred))\n",
    "\n",
    "plot_confusion_matrix(decisiontree, X_test, y_test)\n",
    "plt.show()"
   ]
  },
  {
   "cell_type": "markdown",
   "id": "c2e88387",
   "metadata": {
    "papermill": {
     "duration": 0.009111,
     "end_time": "2022-10-22T04:58:07.825222",
     "exception": false,
     "start_time": "2022-10-22T04:58:07.816111",
     "status": "completed"
    },
    "tags": []
   },
   "source": [
    "**KNN**"
   ]
  },
  {
   "cell_type": "code",
   "execution_count": 16,
   "id": "8c5d36ea",
   "metadata": {
    "execution": {
     "iopub.execute_input": "2022-10-22T04:58:07.848406Z",
     "iopub.status.busy": "2022-10-22T04:58:07.846923Z",
     "iopub.status.idle": "2022-10-22T04:58:10.043020Z",
     "shell.execute_reply": "2022-10-22T04:58:10.042059Z"
    },
    "papermill": {
     "duration": 2.210372,
     "end_time": "2022-10-22T04:58:10.045688",
     "exception": false,
     "start_time": "2022-10-22T04:58:07.835316",
     "status": "completed"
    },
    "tags": []
   },
   "outputs": [
    {
     "name": "stdout",
     "output_type": "stream",
     "text": [
      "The accuracy of KNN is: 0.8143875127248049\n",
      "CLASSIFICATION REPORT\n",
      "              precision    recall  f1-score   support\n",
      "\n",
      "           1       0.68      0.91      0.78       496\n",
      "           2       0.84      0.71      0.77       471\n",
      "           3       0.87      0.69      0.77       420\n",
      "           4       0.82      0.69      0.75       491\n",
      "           5       0.76      0.90      0.82       532\n",
      "           6       1.00      0.95      0.97       537\n",
      "\n",
      "    accuracy                           0.81      2947\n",
      "   macro avg       0.83      0.81      0.81      2947\n",
      "weighted avg       0.83      0.81      0.81      2947\n",
      "\n"
     ]
    },
    {
     "name": "stderr",
     "output_type": "stream",
     "text": [
      "/opt/conda/lib/python3.7/site-packages/sklearn/utils/deprecation.py:87: FutureWarning: Function plot_confusion_matrix is deprecated; Function `plot_confusion_matrix` is deprecated in 1.0 and will be removed in 1.2. Use one of the class methods: ConfusionMatrixDisplay.from_predictions or ConfusionMatrixDisplay.from_estimator.\n",
      "  warnings.warn(msg, category=FutureWarning)\n"
     ]
    },
    {
     "data": {
      "image/png": "[encoded data removed]",
      "text/plain": [
       "<Figure size 432x288 with 2 Axes>"
      ]
     },
     "metadata": {
      "needs_background": "light"
     },
     "output_type": "display_data"
    }
   ],
   "source": [
    "import math\n",
    "from sklearn.neighbors import KNeighborsClassifier\n",
    "from sklearn.metrics import classification_report\n",
    "knn = KNeighborsClassifier(n_neighbors=30)\n",
    "knn.fit(X_train,Y_train)\n",
    "pred = knn.predict(X_test)\n",
    "print(\"The accuracy of KNN is:\",metrics.accuracy_score(pred,Y_test))\n",
    "print(\"CLASSIFICATION REPORT\")\n",
    "print(classification_report(y_test, pred))\n",
    "\n",
    "from sklearn.metrics import plot_confusion_matrix,confusion_matrix\n",
    "plot_confusion_matrix(knn, X_test, y_test)\n",
    "plt.show()"
   ]
  },
  {
   "cell_type": "markdown",
   "id": "65c8ad74",
   "metadata": {
    "papermill": {
     "duration": 0.009346,
     "end_time": "2022-10-22T04:58:10.069038",
     "exception": false,
     "start_time": "2022-10-22T04:58:10.059692",
     "status": "completed"
    },
    "tags": []
   },
   "source": [
    "**SVC with linear kernal**"
   ]
  },
  {
   "cell_type": "code",
   "execution_count": 17,
   "id": "a32ab993",
   "metadata": {
    "execution": {
     "iopub.execute_input": "2022-10-22T04:58:10.091216Z",
     "iopub.status.busy": "2022-10-22T04:58:10.090605Z",
     "iopub.status.idle": "2022-10-22T04:58:12.760991Z",
     "shell.execute_reply": "2022-10-22T04:58:12.759685Z"
    },
    "papermill": {
     "duration": 2.685962,
     "end_time": "2022-10-22T04:58:12.764713",
     "exception": false,
     "start_time": "2022-10-22T04:58:10.078751",
     "status": "completed"
    },
    "tags": []
   },
   "outputs": [
    {
     "name": "stdout",
     "output_type": "stream",
     "text": [
      "Accuracy of SVC is:  0.9633525619273838\n",
      "CLASSIFICATION REPORT\n",
      "              precision    recall  f1-score   support\n",
      "\n",
      "           1       0.95      1.00      0.97       496\n",
      "           2       0.98      0.95      0.97       471\n",
      "           3       0.99      0.98      0.98       420\n",
      "           4       0.96      0.89      0.92       491\n",
      "           5       0.90      0.97      0.94       532\n",
      "           6       1.00      1.00      1.00       537\n",
      "\n",
      "    accuracy                           0.96      2947\n",
      "   macro avg       0.97      0.96      0.96      2947\n",
      "weighted avg       0.96      0.96      0.96      2947\n",
      "\n"
     ]
    },
    {
     "name": "stderr",
     "output_type": "stream",
     "text": [
      "/opt/conda/lib/python3.7/site-packages/sklearn/utils/deprecation.py:87: FutureWarning: Function plot_confusion_matrix is deprecated; Function `plot_confusion_matrix` is deprecated in 1.0 and will be removed in 1.2. Use one of the class methods: ConfusionMatrixDisplay.from_predictions or ConfusionMatrixDisplay.from_estimator.\n",
      "  warnings.warn(msg, category=FutureWarning)\n"
     ]
    },
    {
     "data": {
      "image/png": "[encoded data removed]",
      "text/plain": [
       "<Figure size 432x288 with 2 Axes>"
      ]
     },
     "metadata": {
      "needs_background": "light"
     },
     "output_type": "display_data"
    }
   ],
   "source": [
    "from sklearn.svm import SVC # \"Support vector classifier\"  \n",
    "classifier = SVC(kernel='linear', random_state=0)  \n",
    "classifier.fit(X_train, Y_train)\n",
    "pred= classifier.predict(X_test)\n",
    "print(\"Accuracy of SVC is: \",metrics.accuracy_score(Y_test,pred))\n",
    "print(\"CLASSIFICATION REPORT\")\n",
    "print(classification_report(y_test, pred))\n",
    "\n",
    "from sklearn.metrics import plot_confusion_matrix,confusion_matrix\n",
    "plot_confusion_matrix(classifier, X_test, y_test)\n",
    "plt.show()"
   ]
  },
  {
   "cell_type": "markdown",
   "id": "6adb95af",
   "metadata": {
    "papermill": {
     "duration": 0.01041,
     "end_time": "2022-10-22T04:58:12.788500",
     "exception": false,
     "start_time": "2022-10-22T04:58:12.778090",
     "status": "completed"
    },
    "tags": []
   },
   "source": [
    "**SVC with rbf kernal**"
   ]
  },
  {
   "cell_type": "code",
   "execution_count": 18,
   "id": "a6ada012",
   "metadata": {
    "execution": {
     "iopub.execute_input": "2022-10-22T04:58:12.811054Z",
     "iopub.status.busy": "2022-10-22T04:58:12.810289Z",
     "iopub.status.idle": "2022-10-22T04:58:31.287625Z",
     "shell.execute_reply": "2022-10-22T04:58:31.286248Z"
    },
    "papermill": {
     "duration": 18.491395,
     "end_time": "2022-10-22T04:58:31.290188",
     "exception": false,
     "start_time": "2022-10-22T04:58:12.798793",
     "status": "completed"
    },
    "tags": []
   },
   "outputs": [
    {
     "name": "stdout",
     "output_type": "stream",
     "text": [
      "Accuracy of SVC is:  0.9307770614183916\n",
      "CLASSIFICATION REPORT\n",
      "              precision    recall  f1-score   support\n",
      "\n",
      "           1       0.90      1.00      0.94       496\n",
      "           2       0.94      0.95      0.94       471\n",
      "           3       0.99      0.85      0.92       420\n",
      "           4       0.90      0.86      0.88       491\n",
      "           5       0.88      0.92      0.90       532\n",
      "           6       1.00      1.00      1.00       537\n",
      "\n",
      "    accuracy                           0.93      2947\n",
      "   macro avg       0.93      0.93      0.93      2947\n",
      "weighted avg       0.93      0.93      0.93      2947\n",
      "\n"
     ]
    },
    {
     "name": "stderr",
     "output_type": "stream",
     "text": [
      "/opt/conda/lib/python3.7/site-packages/sklearn/utils/deprecation.py:87: FutureWarning: Function plot_confusion_matrix is deprecated; Function `plot_confusion_matrix` is deprecated in 1.0 and will be removed in 1.2. Use one of the class methods: ConfusionMatrixDisplay.from_predictions or ConfusionMatrixDisplay.from_estimator.\n",
      "  warnings.warn(msg, category=FutureWarning)\n"
     ]
    },
    {
     "data": {
      "image/png": "[encoded data removed]",
      "text/plain": [
       "<Figure size 432x288 with 2 Axes>"
      ]
     },
     "metadata": {
      "needs_background": "light"
     },
     "output_type": "display_data"
    }
   ],
   "source": [
    "from sklearn.svm import SVC # \"Support vector classifier\"  \n",
    "classifier = SVC(kernel='rbf', random_state=0)  \n",
    "classifier.fit(X_train, Y_train)\n",
    "pred= classifier.predict(X_test)\n",
    "print(\"Accuracy of SVC is: \",metrics.accuracy_score(Y_test,pred))\n",
    "print(\"CLASSIFICATION REPORT\")\n",
    "print(classification_report(y_test, pred))\n",
    "\n",
    "from sklearn.metrics import plot_confusion_matrix,confusion_matrix\n",
    "plot_confusion_matrix(classifier, X_test, y_test)\n",
    "plt.show()"
   ]
  },
  {
   "cell_type": "markdown",
   "id": "3edfef94",
   "metadata": {
    "papermill": {
     "duration": 0.010014,
     "end_time": "2022-10-22T04:58:31.310511",
     "exception": false,
     "start_time": "2022-10-22T04:58:31.300497",
     "status": "completed"
    },
    "tags": []
   },
   "source": [
    "**LOGISTIC REGRESSION**"
   ]
  },
  {
   "cell_type": "code",
   "execution_count": 19,
   "id": "9bb49a5e",
   "metadata": {
    "execution": {
     "iopub.execute_input": "2022-10-22T04:58:31.333109Z",
     "iopub.status.busy": "2022-10-22T04:58:31.332553Z",
     "iopub.status.idle": "2022-10-22T04:59:17.931315Z",
     "shell.execute_reply": "2022-10-22T04:59:17.929667Z"
    },
    "papermill": {
     "duration": 46.613639,
     "end_time": "2022-10-22T04:59:17.934293",
     "exception": false,
     "start_time": "2022-10-22T04:58:31.320654",
     "status": "completed"
    },
    "tags": []
   },
   "outputs": [
    {
     "name": "stdout",
     "output_type": "stream",
     "text": [
      "Accuracy of LogisticRegression is:  0.9596199524940617\n",
      "CLASSIFICATION REPORT\n",
      "              precision    recall  f1-score   support\n",
      "\n",
      "           1       0.94      0.99      0.97       496\n",
      "           2       0.97      0.94      0.96       471\n",
      "           3       0.99      0.97      0.98       420\n",
      "           4       0.98      0.87      0.92       491\n",
      "           5       0.89      0.98      0.93       532\n",
      "           6       1.00      1.00      1.00       537\n",
      "\n",
      "    accuracy                           0.96      2947\n",
      "   macro avg       0.96      0.96      0.96      2947\n",
      "weighted avg       0.96      0.96      0.96      2947\n",
      "\n"
     ]
    },
    {
     "name": "stderr",
     "output_type": "stream",
     "text": [
      "/opt/conda/lib/python3.7/site-packages/sklearn/utils/deprecation.py:87: FutureWarning: Function plot_confusion_matrix is deprecated; Function `plot_confusion_matrix` is deprecated in 1.0 and will be removed in 1.2. Use one of the class methods: ConfusionMatrixDisplay.from_predictions or ConfusionMatrixDisplay.from_estimator.\n",
      "  warnings.warn(msg, category=FutureWarning)\n"
     ]
    },
    {
     "data": {
      "image/png": "[encoded data removed]",
      "text/plain": [
       "<Figure size 432x288 with 2 Axes>"
      ]
     },
     "metadata": {
      "needs_background": "light"
     },
     "output_type": "display_data"
    }
   ],
   "source": [
    "#Logistic regression\n",
    "from sklearn.linear_model import LogisticRegression\n",
    "model = LogisticRegression(max_iter=5000)\n",
    "model.fit(X_train, Y_train)\n",
    "pred= model.predict(X_test)\n",
    "print(\"Accuracy of LogisticRegression is: \",metrics.accuracy_score(Y_test,pred))\n",
    "print(\"CLASSIFICATION REPORT\")\n",
    "print(classification_report(y_test, pred))\n",
    "\n",
    "from sklearn.metrics import plot_confusion_matrix,confusion_matrix\n",
    "plot_confusion_matrix(model, X_test, y_test)\n",
    "plt.show()"
   ]
  },
  {
   "cell_type": "markdown",
   "id": "f53a5c22",
   "metadata": {
    "papermill": {
     "duration": 0.010659,
     "end_time": "2022-10-22T04:59:17.955888",
     "exception": false,
     "start_time": "2022-10-22T04:59:17.945229",
     "status": "completed"
    },
    "tags": []
   },
   "source": [
    " **RANDOM FOREST**"
   ]
  },
  {
   "cell_type": "code",
   "execution_count": 20,
   "id": "b432dd82",
   "metadata": {
    "execution": {
     "iopub.execute_input": "2022-10-22T04:59:17.979917Z",
     "iopub.status.busy": "2022-10-22T04:59:17.979454Z",
     "iopub.status.idle": "2022-10-22T04:59:37.725652Z",
     "shell.execute_reply": "2022-10-22T04:59:37.724135Z"
    },
    "papermill": {
     "duration": 19.761552,
     "end_time": "2022-10-22T04:59:37.728365",
     "exception": false,
     "start_time": "2022-10-22T04:59:17.966813",
     "status": "completed"
    },
    "tags": []
   },
   "outputs": [
    {
     "name": "stdout",
     "output_type": "stream",
     "text": [
      "Accuracy of random Forest:  0.9596199524940617\n",
      "CLASSIFICATION REPORT\n",
      "              precision    recall  f1-score   support\n",
      "\n",
      "           1       0.94      0.99      0.97       496\n",
      "           2       0.97      0.94      0.96       471\n",
      "           3       0.99      0.97      0.98       420\n",
      "           4       0.98      0.87      0.92       491\n",
      "           5       0.89      0.98      0.93       532\n",
      "           6       1.00      1.00      1.00       537\n",
      "\n",
      "    accuracy                           0.96      2947\n",
      "   macro avg       0.96      0.96      0.96      2947\n",
      "weighted avg       0.96      0.96      0.96      2947\n",
      "\n"
     ]
    },
    {
     "name": "stderr",
     "output_type": "stream",
     "text": [
      "/opt/conda/lib/python3.7/site-packages/sklearn/utils/deprecation.py:87: FutureWarning: Function plot_confusion_matrix is deprecated; Function `plot_confusion_matrix` is deprecated in 1.0 and will be removed in 1.2. Use one of the class methods: ConfusionMatrixDisplay.from_predictions or ConfusionMatrixDisplay.from_estimator.\n",
      "  warnings.warn(msg, category=FutureWarning)\n"
     ]
    },
    {
     "data": {
      "image/png": "[encoded data removed]",
      "text/plain": [
       "<Figure size 432x288 with 2 Axes>"
      ]
     },
     "metadata": {
      "needs_background": "light"
     },
     "output_type": "display_data"
    }
   ],
   "source": [
    "#Random Forest\n",
    "from sklearn.ensemble import RandomForestClassifier\n",
    "rfc=RandomForestClassifier(n_estimators=150)\n",
    "rfc.fit(X_train,Y_train)\n",
    "pred = model.predict(X_test) \n",
    "print(\"Accuracy of random Forest: \",metrics.accuracy_score(y_test, pred))\n",
    "print(\"CLASSIFICATION REPORT\")\n",
    "print(classification_report(y_test, pred))\n",
    "\n",
    "from sklearn.metrics import plot_confusion_matrix,confusion_matrix\n",
    "plot_confusion_matrix(rfc, X_test, y_test)\n",
    "plt.show()"
   ]
  },
  {
   "cell_type": "markdown",
   "id": "75b00834",
   "metadata": {
    "papermill": {
     "duration": 0.011044,
     "end_time": "2022-10-22T04:59:37.750991",
     "exception": false,
     "start_time": "2022-10-22T04:59:37.739947",
     "status": "completed"
    },
    "tags": []
   },
   "source": [
    "**NAVIE BAYES**\n"
   ]
  },
  {
   "cell_type": "code",
   "execution_count": 21,
   "id": "f7228784",
   "metadata": {
    "execution": {
     "iopub.execute_input": "2022-10-22T04:59:37.776656Z",
     "iopub.status.busy": "2022-10-22T04:59:37.776175Z",
     "iopub.status.idle": "2022-10-22T04:59:38.466589Z",
     "shell.execute_reply": "2022-10-22T04:59:38.464995Z"
    },
    "papermill": {
     "duration": 0.707354,
     "end_time": "2022-10-22T04:59:38.469724",
     "exception": false,
     "start_time": "2022-10-22T04:59:37.762370",
     "status": "completed"
    },
    "tags": []
   },
   "outputs": [
    {
     "name": "stdout",
     "output_type": "stream",
     "text": [
      "Accuracy of Naive:  0.7702748557855447\n",
      "CLASSIFICATION REPORT\n",
      "              precision    recall  f1-score   support\n",
      "\n",
      "           1       0.82      0.84      0.83       496\n",
      "           2       0.76      0.96      0.84       471\n",
      "           3       0.83      0.61      0.70       420\n",
      "           4       0.58      0.73      0.65       491\n",
      "           5       0.79      0.87      0.83       532\n",
      "           6       0.96      0.61      0.75       537\n",
      "\n",
      "    accuracy                           0.77      2947\n",
      "   macro avg       0.79      0.77      0.77      2947\n",
      "weighted avg       0.79      0.77      0.77      2947\n",
      "\n"
     ]
    },
    {
     "name": "stderr",
     "output_type": "stream",
     "text": [
      "/opt/conda/lib/python3.7/site-packages/sklearn/utils/deprecation.py:87: FutureWarning: Function plot_confusion_matrix is deprecated; Function `plot_confusion_matrix` is deprecated in 1.0 and will be removed in 1.2. Use one of the class methods: ConfusionMatrixDisplay.from_predictions or ConfusionMatrixDisplay.from_estimator.\n",
      "  warnings.warn(msg, category=FutureWarning)\n"
     ]
    },
    {
     "data": {
      "image/png": "[encoded data removed]",
      "text/plain": [
       "<Figure size 432x288 with 2 Axes>"
      ]
     },
     "metadata": {
      "needs_background": "light"
     },
     "output_type": "display_data"
    }
   ],
   "source": [
    "from sklearn.naive_bayes import GaussianNB\n",
    "navie=GaussianNB(priors=None, var_smoothing=1e-09)\n",
    "navie.fit(X_train,Y_train)\n",
    "pred = navie.predict(X_test) \n",
    "print(\"Accuracy of Naive: \",metrics.accuracy_score(y_test,pred)) \n",
    "print(\"CLASSIFICATION REPORT\")\n",
    "print(classification_report(y_test, pred))\n",
    "\n",
    "from sklearn.metrics import plot_confusion_matrix,confusion_matrix\n",
    "plot_confusion_matrix(navie, X_test, y_test)\n",
    "plt.show()"
   ]
  },
  {
   "cell_type": "markdown",
   "id": "30df08ff",
   "metadata": {
    "papermill": {
     "duration": 0.011765,
     "end_time": "2022-10-22T04:59:38.493414",
     "exception": false,
     "start_time": "2022-10-22T04:59:38.481649",
     "status": "completed"
    },
    "tags": []
   },
   "source": [
    "**CART**"
   ]
  },
  {
   "cell_type": "code",
   "execution_count": 22,
   "id": "37f83850",
   "metadata": {
    "execution": {
     "iopub.execute_input": "2022-10-22T04:59:38.520027Z",
     "iopub.status.busy": "2022-10-22T04:59:38.519464Z",
     "iopub.status.idle": "2022-10-22T04:59:44.227515Z",
     "shell.execute_reply": "2022-10-22T04:59:44.226183Z"
    },
    "papermill": {
     "duration": 5.72536,
     "end_time": "2022-10-22T04:59:44.231046",
     "exception": false,
     "start_time": "2022-10-22T04:59:38.505686",
     "status": "completed"
    },
    "tags": []
   },
   "outputs": [
    {
     "name": "stdout",
     "output_type": "stream",
     "text": [
      "The accuracy of CART is: 0.8622327790973872\n",
      "CLASSIFICATION REPORT\n",
      "              precision    recall  f1-score   support\n",
      "\n",
      "           1       0.84      0.91      0.87       496\n",
      "           2       0.82      0.79      0.81       471\n",
      "           3       0.87      0.83      0.85       420\n",
      "           4       0.82      0.78      0.80       491\n",
      "           5       0.81      0.84      0.83       532\n",
      "           6       1.00      1.00      1.00       537\n",
      "\n",
      "    accuracy                           0.86      2947\n",
      "   macro avg       0.86      0.86      0.86      2947\n",
      "weighted avg       0.86      0.86      0.86      2947\n",
      "\n"
     ]
    },
    {
     "name": "stderr",
     "output_type": "stream",
     "text": [
      "/opt/conda/lib/python3.7/site-packages/sklearn/utils/deprecation.py:87: FutureWarning: Function plot_confusion_matrix is deprecated; Function `plot_confusion_matrix` is deprecated in 1.0 and will be removed in 1.2. Use one of the class methods: ConfusionMatrixDisplay.from_predictions or ConfusionMatrixDisplay.from_estimator.\n",
      "  warnings.warn(msg, category=FutureWarning)\n"
     ]
    },
    {
     "data": {
      "image/png": "[encoded data removed]",
      "text/plain": [
       "<Figure size 432x288 with 2 Axes>"
      ]
     },
     "metadata": {
      "needs_background": "light"
     },
     "output_type": "display_data"
    }
   ],
   "source": [
    "from sklearn.tree import DecisionTreeClassifier\n",
    "cart=DecisionTreeClassifier(criterion='gini')\n",
    "cart.fit(X_train,Y_train)\n",
    "pred=cart.predict(X_test)\n",
    "print(\"The accuracy of CART is:\",metrics.accuracy_score(pred,Y_test))\n",
    "print(\"CLASSIFICATION REPORT\")\n",
    "print(classification_report(y_test, pred))\n",
    "\n",
    "from sklearn.metrics import plot_confusion_matrix,confusion_matrix\n",
    "plot_confusion_matrix(cart, X_test, y_test)\n",
    "plt.show()\n"
   ]
  },
  {
   "cell_type": "code",
   "execution_count": null,
   "id": "2bbda5ed",
   "metadata": {
    "papermill": {
     "duration": 0.016286,
     "end_time": "2022-10-22T04:59:44.267268",
     "exception": false,
     "start_time": "2022-10-22T04:59:44.250982",
     "status": "completed"
    },
    "tags": []
   },
   "outputs": [],
   "source": []
  }
 ],
 "metadata": {
  "kernelspec": {
   "display_name": "Python 3",
   "language": "python",
   "name": "python3"
  },
  "language_info": {
   "codemirror_mode": {
    "name": "ipython",
    "version": 3
   },
   "file_extension": ".py",
   "mimetype": "text/x-python",
   "name": "python",
   "nbconvert_exporter": "python",
   "pygments_lexer": "ipython3",
   "version": "3.7.12"
  },
  "papermill": {
   "default_parameters": {},
   "duration": 128.309644,
   "end_time": "2022-10-22T04:59:47.268557",
   "environment_variables": {},
   "exception": null,
   "input_path": "__notebook__.ipynb",
   "output_path": "__notebook__.ipynb",
   "parameters": {},
   "start_time": "2022-10-22T04:57:38.958913",
   "version": "2.3.4"
  }
 },
 "nbformat": 4,
 "nbformat_minor": 5
}
